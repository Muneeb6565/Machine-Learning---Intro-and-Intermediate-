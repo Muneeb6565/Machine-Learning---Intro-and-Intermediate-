{
 "cells": [
  {
   "cell_type": "markdown",
   "id": "2fec5bdc",
   "metadata": {
    "papermill": {
     "duration": 0.0066,
     "end_time": "2023-01-20T07:28:19.368282",
     "exception": false,
     "start_time": "2023-01-20T07:28:19.361682",
     "status": "completed"
    },
    "tags": []
   },
   "source": [
    "**This notebook is an exercise in the [Intermediate Machine Learning](https://www.kaggle.com/learn/intermediate-machine-learning) course.  You can reference the tutorial at [this link](https://www.kaggle.com/alexisbcook/xgboost).**\n",
    "\n",
    "---\n"
   ]
  },
  {
   "cell_type": "markdown",
   "id": "24f37275",
   "metadata": {
    "papermill": {
     "duration": 0.005066,
     "end_time": "2023-01-20T07:28:19.379450",
     "exception": false,
     "start_time": "2023-01-20T07:28:19.374384",
     "status": "completed"
    },
    "tags": []
   },
   "source": [
    "In this exercise, you will use your new knowledge to train a model with **gradient boosting**.\n",
    "\n",
    "# Setup\n",
    "\n",
    "The questions below will give you feedback on your work. Run the following cell to set up the feedback system."
   ]
  },
  {
   "cell_type": "code",
   "execution_count": 1,
   "id": "3aa71bf1",
   "metadata": {
    "execution": {
     "iopub.execute_input": "2023-01-20T07:28:19.392493Z",
     "iopub.status.busy": "2023-01-20T07:28:19.391829Z",
     "iopub.status.idle": "2023-01-20T07:28:22.033017Z",
     "shell.execute_reply": "2023-01-20T07:28:22.032020Z"
    },
    "papermill": {
     "duration": 2.651276,
     "end_time": "2023-01-20T07:28:22.036209",
     "exception": false,
     "start_time": "2023-01-20T07:28:19.384933",
     "status": "completed"
    },
    "tags": []
   },
   "outputs": [
    {
     "name": "stdout",
     "output_type": "stream",
     "text": [
      "Setup Complete\n"
     ]
    }
   ],
   "source": [
    "# Set up code checking\n",
    "import os\n",
    "if not os.path.exists(\"../input/train.csv\"):\n",
    "    os.symlink(\"../input/home-data-for-ml-course/train.csv\", \"../input/train.csv\")  \n",
    "    os.symlink(\"../input/home-data-for-ml-course/test.csv\", \"../input/test.csv\") \n",
    "from learntools.core import binder\n",
    "binder.bind(globals())\n",
    "from learntools.ml_intermediate.ex6 import *\n",
    "print(\"Setup Complete\")"
   ]
  },
  {
   "cell_type": "markdown",
   "id": "3ebf5047",
   "metadata": {
    "papermill": {
     "duration": 0.005492,
     "end_time": "2023-01-20T07:28:22.047563",
     "exception": false,
     "start_time": "2023-01-20T07:28:22.042071",
     "status": "completed"
    },
    "tags": []
   },
   "source": [
    "You will work with the [Housing Prices Competition for Kaggle Learn Users](https://www.kaggle.com/c/home-data-for-ml-course) dataset from the previous exercise. \n",
    "\n",
    "![Ames Housing dataset image](https://i.imgur.com/lTJVG4e.png)\n",
    "\n",
    "Run the next code cell without changes to load the training and validation sets in `X_train`, `X_valid`, `y_train`, and `y_valid`.  The test set is loaded in `X_test`."
   ]
  },
  {
   "cell_type": "code",
   "execution_count": 2,
   "id": "f1956bff",
   "metadata": {
    "execution": {
     "iopub.execute_input": "2023-01-20T07:28:22.060083Z",
     "iopub.status.busy": "2023-01-20T07:28:22.059646Z",
     "iopub.status.idle": "2023-01-20T07:28:22.263915Z",
     "shell.execute_reply": "2023-01-20T07:28:22.262667Z"
    },
    "papermill": {
     "duration": 0.213969,
     "end_time": "2023-01-20T07:28:22.267026",
     "exception": false,
     "start_time": "2023-01-20T07:28:22.053057",
     "status": "completed"
    },
    "tags": []
   },
   "outputs": [],
   "source": [
    "import pandas as pd\n",
    "from sklearn.model_selection import train_test_split\n",
    "\n",
    "# Read the data\n",
    "X = pd.read_csv('../input/train.csv', index_col='Id')\n",
    "X_test_full = pd.read_csv('../input/test.csv', index_col='Id')\n",
    "\n",
    "# Remove rows with missing target, separate target from predictors\n",
    "X.dropna(axis=0, subset=['SalePrice'], inplace=True)\n",
    "y = X.SalePrice              \n",
    "X.drop(['SalePrice'], axis=1, inplace=True)\n",
    "\n",
    "# Break off validation set from training data\n",
    "X_train_full, X_valid_full, y_train, y_valid = train_test_split(X, y, train_size=0.8, test_size=0.2,\n",
    "                                                                random_state=0)\n",
    "\n",
    "# \"Cardinality\" means the number of unique values in a column\n",
    "# Select categorical columns with relatively low cardinality (convenient but arbitrary)\n",
    "low_cardinality_cols = [cname for cname in X_train_full.columns if X_train_full[cname].nunique() < 10 and \n",
    "                        X_train_full[cname].dtype == \"object\"]\n",
    "\n",
    "# Select numeric columns\n",
    "numeric_cols = [cname for cname in X_train_full.columns if X_train_full[cname].dtype in ['int64', 'float64']]\n",
    "\n",
    "# Keep selected columns only\n",
    "my_cols = low_cardinality_cols + numeric_cols\n",
    "X_train = X_train_full[my_cols].copy()\n",
    "X_valid = X_valid_full[my_cols].copy()\n",
    "X_test = X_test_full[my_cols].copy()\n",
    "\n",
    "# One-hot encode the data (to shorten the code, we use pandas)\n",
    "X_train = pd.get_dummies(X_train)\n",
    "X_valid = pd.get_dummies(X_valid)\n",
    "X_test = pd.get_dummies(X_test)\n",
    "X_train, X_valid = X_train.align(X_valid, join='left', axis=1)\n",
    "X_train, X_test = X_train.align(X_test, join='left', axis=1)"
   ]
  },
  {
   "cell_type": "markdown",
   "id": "5fc3be86",
   "metadata": {
    "papermill": {
     "duration": 0.005197,
     "end_time": "2023-01-20T07:28:22.277740",
     "exception": false,
     "start_time": "2023-01-20T07:28:22.272543",
     "status": "completed"
    },
    "tags": []
   },
   "source": [
    "# Step 1: Build model\n",
    "\n",
    "### Part A\n",
    "\n",
    "In this step, you'll build and train your first model with gradient boosting.\n",
    "\n",
    "- Begin by setting `my_model_1` to an XGBoost model.  Use the [XGBRegressor](https://xgboost.readthedocs.io/en/latest/python/python_api.html#xgboost.XGBRegressor) class, and set the random seed to 0 (`random_state=0`).  **Leave all other parameters as default.**\n",
    "- Then, fit the model to the training data in `X_train` and `y_train`."
   ]
  },
  {
   "cell_type": "code",
   "execution_count": 3,
   "id": "26d95669",
   "metadata": {
    "execution": {
     "iopub.execute_input": "2023-01-20T07:28:22.290286Z",
     "iopub.status.busy": "2023-01-20T07:28:22.289764Z",
     "iopub.status.idle": "2023-01-20T07:28:23.282270Z",
     "shell.execute_reply": "2023-01-20T07:28:23.281249Z"
    },
    "papermill": {
     "duration": 1.001744,
     "end_time": "2023-01-20T07:28:23.284764",
     "exception": false,
     "start_time": "2023-01-20T07:28:22.283020",
     "status": "completed"
    },
    "tags": []
   },
   "outputs": [
    {
     "data": {
      "application/javascript": [
       "parent.postMessage({\"jupyterEvent\": \"custom.exercise_interaction\", \"data\": {\"outcomeType\": 1, \"valueTowardsCompletion\": 0.5, \"interactionType\": 1, \"questionType\": 2, \"questionId\": \"1.1_Model1A\", \"learnToolsVersion\": \"0.3.4\", \"failureMessage\": \"\", \"exceptionClass\": \"\", \"trace\": \"\"}}, \"*\")"
      ],
      "text/plain": [
       "<IPython.core.display.Javascript object>"
      ]
     },
     "metadata": {},
     "output_type": "display_data"
    },
    {
     "data": {
      "text/markdown": [
       "<span style=\"color:#33cc33\">Correct</span>"
      ],
      "text/plain": [
       "Correct"
      ]
     },
     "metadata": {},
     "output_type": "display_data"
    }
   ],
   "source": [
    "from xgboost import XGBRegressor\n",
    "\n",
    "# Define the model\n",
    "my_model_1 = XGBRegressor() # Your code here\n",
    "\n",
    "# Fit the model\n",
    "my_model_1.fit(X_train, y_train) # Your code here\n",
    "\n",
    "# Check your answer\n",
    "step_1.a.check()"
   ]
  },
  {
   "cell_type": "code",
   "execution_count": 4,
   "id": "da6c6d32",
   "metadata": {
    "execution": {
     "iopub.execute_input": "2023-01-20T07:28:23.298741Z",
     "iopub.status.busy": "2023-01-20T07:28:23.297530Z",
     "iopub.status.idle": "2023-01-20T07:28:23.302241Z",
     "shell.execute_reply": "2023-01-20T07:28:23.301177Z"
    },
    "papermill": {
     "duration": 0.014213,
     "end_time": "2023-01-20T07:28:23.304838",
     "exception": false,
     "start_time": "2023-01-20T07:28:23.290625",
     "status": "completed"
    },
    "tags": []
   },
   "outputs": [],
   "source": [
    "# Lines below will give you a hint or solution code\n",
    "#step_1.a.hint()\n",
    "#step_1.a.solution()"
   ]
  },
  {
   "cell_type": "markdown",
   "id": "46694338",
   "metadata": {
    "papermill": {
     "duration": 0.006981,
     "end_time": "2023-01-20T07:28:23.317570",
     "exception": false,
     "start_time": "2023-01-20T07:28:23.310589",
     "status": "completed"
    },
    "tags": []
   },
   "source": [
    "### Part B\n",
    "\n",
    "Set `predictions_1` to the model's predictions for the validation data.  Recall that the validation features are stored in `X_valid`."
   ]
  },
  {
   "cell_type": "code",
   "execution_count": 5,
   "id": "1e8d4511",
   "metadata": {
    "execution": {
     "iopub.execute_input": "2023-01-20T07:28:23.330880Z",
     "iopub.status.busy": "2023-01-20T07:28:23.330138Z",
     "iopub.status.idle": "2023-01-20T07:28:23.356657Z",
     "shell.execute_reply": "2023-01-20T07:28:23.354748Z"
    },
    "papermill": {
     "duration": 0.036058,
     "end_time": "2023-01-20T07:28:23.359270",
     "exception": false,
     "start_time": "2023-01-20T07:28:23.323212",
     "status": "completed"
    },
    "tags": []
   },
   "outputs": [
    {
     "data": {
      "application/javascript": [
       "parent.postMessage({\"jupyterEvent\": \"custom.exercise_interaction\", \"data\": {\"outcomeType\": 1, \"valueTowardsCompletion\": 0.5, \"interactionType\": 1, \"questionType\": 2, \"questionId\": \"1.2_Model1B\", \"learnToolsVersion\": \"0.3.4\", \"failureMessage\": \"\", \"exceptionClass\": \"\", \"trace\": \"\"}}, \"*\")"
      ],
      "text/plain": [
       "<IPython.core.display.Javascript object>"
      ]
     },
     "metadata": {},
     "output_type": "display_data"
    },
    {
     "data": {
      "text/markdown": [
       "<span style=\"color:#33cc33\">Correct</span>"
      ],
      "text/plain": [
       "Correct"
      ]
     },
     "metadata": {},
     "output_type": "display_data"
    }
   ],
   "source": [
    "from sklearn.metrics import mean_absolute_error\n",
    "\n",
    "# Get predictions\n",
    "predictions_1 = my_model_1.predict(X_valid) # Your code here\n",
    "\n",
    "# Check your answer\n",
    "step_1.b.check()"
   ]
  },
  {
   "cell_type": "code",
   "execution_count": 6,
   "id": "8330683a",
   "metadata": {
    "execution": {
     "iopub.execute_input": "2023-01-20T07:28:23.375550Z",
     "iopub.status.busy": "2023-01-20T07:28:23.375024Z",
     "iopub.status.idle": "2023-01-20T07:28:23.380143Z",
     "shell.execute_reply": "2023-01-20T07:28:23.378761Z"
    },
    "papermill": {
     "duration": 0.015987,
     "end_time": "2023-01-20T07:28:23.382577",
     "exception": false,
     "start_time": "2023-01-20T07:28:23.366590",
     "status": "completed"
    },
    "tags": []
   },
   "outputs": [],
   "source": [
    "# Lines below will give you a hint or solution code\n",
    "#step_1.b.hint()\n",
    "#step_1.b.solution()"
   ]
  },
  {
   "cell_type": "markdown",
   "id": "22087e9c",
   "metadata": {
    "papermill": {
     "duration": 0.005791,
     "end_time": "2023-01-20T07:28:23.394448",
     "exception": false,
     "start_time": "2023-01-20T07:28:23.388657",
     "status": "completed"
    },
    "tags": []
   },
   "source": [
    "### Part C\n",
    "\n",
    "Finally, use the `mean_absolute_error()` function to calculate the mean absolute error (MAE) corresponding to the predictions for the validation set.  Recall that the labels for the validation data are stored in `y_valid`."
   ]
  },
  {
   "cell_type": "code",
   "execution_count": 7,
   "id": "cb954a95",
   "metadata": {
    "execution": {
     "iopub.execute_input": "2023-01-20T07:28:23.408276Z",
     "iopub.status.busy": "2023-01-20T07:28:23.407861Z",
     "iopub.status.idle": "2023-01-20T07:28:23.418847Z",
     "shell.execute_reply": "2023-01-20T07:28:23.417732Z"
    },
    "papermill": {
     "duration": 0.021266,
     "end_time": "2023-01-20T07:28:23.421614",
     "exception": false,
     "start_time": "2023-01-20T07:28:23.400348",
     "status": "completed"
    },
    "tags": []
   },
   "outputs": [
    {
     "name": "stdout",
     "output_type": "stream",
     "text": [
      "Mean Absolute Error: 17662.736729452055\n"
     ]
    },
    {
     "data": {
      "application/javascript": [
       "parent.postMessage({\"jupyterEvent\": \"custom.exercise_interaction\", \"data\": {\"outcomeType\": 1, \"valueTowardsCompletion\": 0.5, \"interactionType\": 1, \"questionType\": 2, \"questionId\": \"1.3_Model1C\", \"learnToolsVersion\": \"0.3.4\", \"failureMessage\": \"\", \"exceptionClass\": \"\", \"trace\": \"\"}}, \"*\")"
      ],
      "text/plain": [
       "<IPython.core.display.Javascript object>"
      ]
     },
     "metadata": {},
     "output_type": "display_data"
    },
    {
     "data": {
      "text/markdown": [
       "<span style=\"color:#33cc33\">Correct</span>"
      ],
      "text/plain": [
       "Correct"
      ]
     },
     "metadata": {},
     "output_type": "display_data"
    }
   ],
   "source": [
    "# Calculate MAE\n",
    "mae_1 = mae_1 = mean_absolute_error(predictions_1, y_valid)\n",
    "print(\"Mean Absolute Error:\" , mae_1) # Your code here\n",
    "\n",
    "step_1.c.check()"
   ]
  },
  {
   "cell_type": "code",
   "execution_count": 8,
   "id": "8fa42bcf",
   "metadata": {
    "execution": {
     "iopub.execute_input": "2023-01-20T07:28:23.437364Z",
     "iopub.status.busy": "2023-01-20T07:28:23.436562Z",
     "iopub.status.idle": "2023-01-20T07:28:23.446732Z",
     "shell.execute_reply": "2023-01-20T07:28:23.445186Z"
    },
    "papermill": {
     "duration": 0.020325,
     "end_time": "2023-01-20T07:28:23.449273",
     "exception": false,
     "start_time": "2023-01-20T07:28:23.428948",
     "status": "completed"
    },
    "tags": []
   },
   "outputs": [
    {
     "data": {
      "application/javascript": [
       "parent.postMessage({\"jupyterEvent\": \"custom.exercise_interaction\", \"data\": {\"interactionType\": 3, \"questionType\": 2, \"questionId\": \"1.3_Model1C\", \"learnToolsVersion\": \"0.3.4\", \"valueTowardsCompletion\": 0.0, \"failureMessage\": \"\", \"exceptionClass\": \"\", \"trace\": \"\", \"outcomeType\": 4}}, \"*\")"
      ],
      "text/plain": [
       "<IPython.core.display.Javascript object>"
      ]
     },
     "metadata": {},
     "output_type": "display_data"
    },
    {
     "data": {
      "text/markdown": [
       "<span style=\"color:#33cc99\">Solution:</span> \n",
       "```python\n",
       "# Calculate MAE\n",
       "mae_1 = mean_absolute_error(predictions_1, y_valid)\n",
       "print(\"Mean Absolute Error:\" , mae_1)\n",
       "\n",
       "```"
      ],
      "text/plain": [
       "Solution: \n",
       "```python\n",
       "# Calculate MAE\n",
       "mae_1 = mean_absolute_error(predictions_1, y_valid)\n",
       "print(\"Mean Absolute Error:\" , mae_1)\n",
       "\n",
       "```"
      ]
     },
     "metadata": {},
     "output_type": "display_data"
    }
   ],
   "source": [
    "# Lines below will give you a hint or solution code\n",
    "#step_1.c.hint()\n",
    "step_1.c.solution()"
   ]
  },
  {
   "cell_type": "markdown",
   "id": "f281c182",
   "metadata": {
    "papermill": {
     "duration": 0.006689,
     "end_time": "2023-01-20T07:28:23.462499",
     "exception": false,
     "start_time": "2023-01-20T07:28:23.455810",
     "status": "completed"
    },
    "tags": []
   },
   "source": [
    "# Step 2: Improve the model\n",
    "\n",
    "Now that you've trained a default model as baseline, it's time to tinker with the parameters, to see if you can get better performance!\n",
    "- Begin by setting `my_model_2` to an XGBoost model, using the [XGBRegressor](https://xgboost.readthedocs.io/en/latest/python/python_api.html#xgboost.XGBRegressor) class.  Use what you learned in the previous tutorial to figure out how to change the default parameters (like `n_estimators` and `learning_rate`) to get better results.\n",
    "- Then, fit the model to the training data in `X_train` and `y_train`.\n",
    "- Set `predictions_2` to the model's predictions for the validation data.  Recall that the validation features are stored in `X_valid`.\n",
    "- Finally, use the `mean_absolute_error()` function to calculate the mean absolute error (MAE) corresponding to the predictions on the validation set.  Recall that the labels for the validation data are stored in `y_valid`.\n",
    "\n",
    "In order for this step to be marked correct, your model in `my_model_2` must attain lower MAE than the model in `my_model_1`. "
   ]
  },
  {
   "cell_type": "code",
   "execution_count": 9,
   "id": "14ae7de6",
   "metadata": {
    "execution": {
     "iopub.execute_input": "2023-01-20T07:28:23.477293Z",
     "iopub.status.busy": "2023-01-20T07:28:23.476867Z",
     "iopub.status.idle": "2023-01-20T07:28:34.232543Z",
     "shell.execute_reply": "2023-01-20T07:28:34.231559Z"
    },
    "papermill": {
     "duration": 10.76597,
     "end_time": "2023-01-20T07:28:34.234959",
     "exception": false,
     "start_time": "2023-01-20T07:28:23.468989",
     "status": "completed"
    },
    "tags": []
   },
   "outputs": [
    {
     "name": "stdout",
     "output_type": "stream",
     "text": [
      "Mean Absolute Error: 16688.691513270547\n"
     ]
    },
    {
     "data": {
      "application/javascript": [
       "parent.postMessage({\"jupyterEvent\": \"custom.exercise_interaction\", \"data\": {\"outcomeType\": 1, \"valueTowardsCompletion\": 0.5, \"interactionType\": 1, \"questionType\": 2, \"questionId\": \"2_Model2\", \"learnToolsVersion\": \"0.3.4\", \"failureMessage\": \"\", \"exceptionClass\": \"\", \"trace\": \"\"}}, \"*\")"
      ],
      "text/plain": [
       "<IPython.core.display.Javascript object>"
      ]
     },
     "metadata": {},
     "output_type": "display_data"
    },
    {
     "data": {
      "text/markdown": [
       "<span style=\"color:#33cc33\">Correct</span>"
      ],
      "text/plain": [
       "Correct"
      ]
     },
     "metadata": {},
     "output_type": "display_data"
    }
   ],
   "source": [
    "# Define the model\n",
    "my_model_2 = XGBRegressor(n_estimators=1000, learning_rate=0.05)\n",
    "\n",
    "# Fit the model\n",
    "my_model_2.fit(X_train, y_train)\n",
    "\n",
    "# Get predictions\n",
    "predictions_2 = my_model_2.predict(X_valid)\n",
    "\n",
    "# Calculate MAE\n",
    "mae_2 = mean_absolute_error(predictions_2, y_valid)\n",
    "print(\"Mean Absolute Error:\" , mae_2)\n",
    "\n",
    "# Check your answer\n",
    "step_2.check()"
   ]
  },
  {
   "cell_type": "code",
   "execution_count": 10,
   "id": "e4b08e9e",
   "metadata": {
    "execution": {
     "iopub.execute_input": "2023-01-20T07:28:34.251807Z",
     "iopub.status.busy": "2023-01-20T07:28:34.251373Z",
     "iopub.status.idle": "2023-01-20T07:28:34.260532Z",
     "shell.execute_reply": "2023-01-20T07:28:34.259299Z"
    },
    "papermill": {
     "duration": 0.019727,
     "end_time": "2023-01-20T07:28:34.262947",
     "exception": false,
     "start_time": "2023-01-20T07:28:34.243220",
     "status": "completed"
    },
    "tags": []
   },
   "outputs": [
    {
     "data": {
      "application/javascript": [
       "parent.postMessage({\"jupyterEvent\": \"custom.exercise_interaction\", \"data\": {\"interactionType\": 3, \"questionType\": 2, \"questionId\": \"2_Model2\", \"learnToolsVersion\": \"0.3.4\", \"valueTowardsCompletion\": 0.0, \"failureMessage\": \"\", \"exceptionClass\": \"\", \"trace\": \"\", \"outcomeType\": 4}}, \"*\")"
      ],
      "text/plain": [
       "<IPython.core.display.Javascript object>"
      ]
     },
     "metadata": {},
     "output_type": "display_data"
    },
    {
     "data": {
      "text/markdown": [
       "<span style=\"color:#33cc99\">Solution:</span> \n",
       "```python\n",
       "# Define the model\n",
       "my_model_2 = XGBRegressor(n_estimators=1000, learning_rate=0.05)\n",
       "\n",
       "# Fit the model\n",
       "my_model_2.fit(X_train, y_train)\n",
       "\n",
       "# Get predictions\n",
       "predictions_2 = my_model_2.predict(X_valid)\n",
       "\n",
       "# Calculate MAE\n",
       "mae_2 = mean_absolute_error(predictions_2, y_valid)\n",
       "print(\"Mean Absolute Error:\" , mae_2)\n",
       "\n",
       "```"
      ],
      "text/plain": [
       "Solution: \n",
       "```python\n",
       "# Define the model\n",
       "my_model_2 = XGBRegressor(n_estimators=1000, learning_rate=0.05)\n",
       "\n",
       "# Fit the model\n",
       "my_model_2.fit(X_train, y_train)\n",
       "\n",
       "# Get predictions\n",
       "predictions_2 = my_model_2.predict(X_valid)\n",
       "\n",
       "# Calculate MAE\n",
       "mae_2 = mean_absolute_error(predictions_2, y_valid)\n",
       "print(\"Mean Absolute Error:\" , mae_2)\n",
       "\n",
       "```"
      ]
     },
     "metadata": {},
     "output_type": "display_data"
    }
   ],
   "source": [
    "# Lines below will give you a hint or solution code\n",
    "#step_2.hint()\n",
    "step_2.solution()"
   ]
  },
  {
   "cell_type": "markdown",
   "id": "83034548",
   "metadata": {
    "papermill": {
     "duration": 0.006597,
     "end_time": "2023-01-20T07:28:34.276554",
     "exception": false,
     "start_time": "2023-01-20T07:28:34.269957",
     "status": "completed"
    },
    "tags": []
   },
   "source": [
    "# Step 3: Break the model\n",
    "\n",
    "In this step, you will create a model that performs worse than the original model in Step 1.  This will help you to develop your intuition for how to set parameters.  You might even find that you accidentally get better performance, which is ultimately a nice problem to have and a valuable learning experience!\n",
    "- Begin by setting `my_model_3` to an XGBoost model, using the [XGBRegressor](https://xgboost.readthedocs.io/en/latest/python/python_api.html#xgboost.XGBRegressor) class.  Use what you learned in the previous tutorial to figure out how to change the default parameters (like `n_estimators` and `learning_rate`) to design a model to get high MAE.\n",
    "- Then, fit the model to the training data in `X_train` and `y_train`.\n",
    "- Set `predictions_3` to the model's predictions for the validation data.  Recall that the validation features are stored in `X_valid`.\n",
    "- Finally, use the `mean_absolute_error()` function to calculate the mean absolute error (MAE) corresponding to the predictions on the validation set.  Recall that the labels for the validation data are stored in `y_valid`.\n",
    "\n",
    "In order for this step to be marked correct, your model in `my_model_3` must attain higher MAE than the model in `my_model_1`. "
   ]
  },
  {
   "cell_type": "code",
   "execution_count": 11,
   "id": "fba4babd",
   "metadata": {
    "execution": {
     "iopub.execute_input": "2023-01-20T07:28:34.292994Z",
     "iopub.status.busy": "2023-01-20T07:28:34.292505Z",
     "iopub.status.idle": "2023-01-20T07:28:34.364530Z",
     "shell.execute_reply": "2023-01-20T07:28:34.363297Z"
    },
    "papermill": {
     "duration": 0.083138,
     "end_time": "2023-01-20T07:28:34.367205",
     "exception": false,
     "start_time": "2023-01-20T07:28:34.284067",
     "status": "completed"
    },
    "tags": []
   },
   "outputs": [
    {
     "name": "stdout",
     "output_type": "stream",
     "text": [
      "Mean Absolute Error: 127895.0828807256\n"
     ]
    },
    {
     "data": {
      "application/javascript": [
       "parent.postMessage({\"jupyterEvent\": \"custom.exercise_interaction\", \"data\": {\"outcomeType\": 1, \"valueTowardsCompletion\": 0.5, \"interactionType\": 1, \"questionType\": 2, \"questionId\": \"3_Model3\", \"learnToolsVersion\": \"0.3.4\", \"failureMessage\": \"\", \"exceptionClass\": \"\", \"trace\": \"\"}}, \"*\")"
      ],
      "text/plain": [
       "<IPython.core.display.Javascript object>"
      ]
     },
     "metadata": {},
     "output_type": "display_data"
    },
    {
     "data": {
      "text/markdown": [
       "<span style=\"color:#33cc33\">Correct</span>"
      ],
      "text/plain": [
       "Correct"
      ]
     },
     "metadata": {},
     "output_type": "display_data"
    }
   ],
   "source": [
    "# Define the model\n",
    "my_model_3 = XGBRegressor(n_estimators=1)\n",
    "\n",
    "# Fit the model\n",
    "my_model_3.fit(X_train, y_train)\n",
    "\n",
    "# Get predictions\n",
    "predictions_3 = my_model_3.predict(X_valid)\n",
    "\n",
    "# Calculate MAE\n",
    "mae_3 = mean_absolute_error(predictions_3, y_valid)\n",
    "print(\"Mean Absolute Error:\" , mae_3)\n",
    "step_3.check()"
   ]
  },
  {
   "cell_type": "code",
   "execution_count": 12,
   "id": "9933831b",
   "metadata": {
    "execution": {
     "iopub.execute_input": "2023-01-20T07:28:34.385198Z",
     "iopub.status.busy": "2023-01-20T07:28:34.384707Z",
     "iopub.status.idle": "2023-01-20T07:28:34.395516Z",
     "shell.execute_reply": "2023-01-20T07:28:34.394354Z"
    },
    "papermill": {
     "duration": 0.022343,
     "end_time": "2023-01-20T07:28:34.398184",
     "exception": false,
     "start_time": "2023-01-20T07:28:34.375841",
     "status": "completed"
    },
    "tags": []
   },
   "outputs": [
    {
     "data": {
      "application/javascript": [
       "parent.postMessage({\"jupyterEvent\": \"custom.exercise_interaction\", \"data\": {\"interactionType\": 3, \"questionType\": 2, \"questionId\": \"3_Model3\", \"learnToolsVersion\": \"0.3.4\", \"valueTowardsCompletion\": 0.0, \"failureMessage\": \"\", \"exceptionClass\": \"\", \"trace\": \"\", \"outcomeType\": 4}}, \"*\")"
      ],
      "text/plain": [
       "<IPython.core.display.Javascript object>"
      ]
     },
     "metadata": {},
     "output_type": "display_data"
    },
    {
     "data": {
      "text/markdown": [
       "<span style=\"color:#33cc99\">Solution:</span> \n",
       "```python\n",
       "# Define the model\n",
       "my_model_3 = XGBRegressor(n_estimators=1)\n",
       "\n",
       "# Fit the model\n",
       "my_model_3.fit(X_train, y_train)\n",
       "\n",
       "# Get predictions\n",
       "predictions_3 = my_model_3.predict(X_valid)\n",
       "\n",
       "# Calculate MAE\n",
       "mae_3 = mean_absolute_error(predictions_3, y_valid)\n",
       "print(\"Mean Absolute Error:\" , mae_3)\n",
       "\n",
       "```"
      ],
      "text/plain": [
       "Solution: \n",
       "```python\n",
       "# Define the model\n",
       "my_model_3 = XGBRegressor(n_estimators=1)\n",
       "\n",
       "# Fit the model\n",
       "my_model_3.fit(X_train, y_train)\n",
       "\n",
       "# Get predictions\n",
       "predictions_3 = my_model_3.predict(X_valid)\n",
       "\n",
       "# Calculate MAE\n",
       "mae_3 = mean_absolute_error(predictions_3, y_valid)\n",
       "print(\"Mean Absolute Error:\" , mae_3)\n",
       "\n",
       "```"
      ]
     },
     "metadata": {},
     "output_type": "display_data"
    }
   ],
   "source": [
    "# Lines below will give you a hint or solution code\n",
    "#step_3.hint()\n",
    "step_3.solution()"
   ]
  },
  {
   "cell_type": "markdown",
   "id": "794700e2",
   "metadata": {
    "papermill": {
     "duration": 0.007362,
     "end_time": "2023-01-20T07:28:34.413380",
     "exception": false,
     "start_time": "2023-01-20T07:28:34.406018",
     "status": "completed"
    },
    "tags": []
   },
   "source": [
    "# Keep going\n",
    "\n",
    "Continue to learn about **[data leakage](https://www.kaggle.com/alexisbcook/data-leakage)**.  This is an important issue for a data scientist to understand, and it has the potential to ruin your models in subtle and dangerous ways!"
   ]
  },
  {
   "cell_type": "markdown",
   "id": "e59c00c8",
   "metadata": {
    "papermill": {
     "duration": 0.007796,
     "end_time": "2023-01-20T07:28:34.428839",
     "exception": false,
     "start_time": "2023-01-20T07:28:34.421043",
     "status": "completed"
    },
    "tags": []
   },
   "source": [
    "---\n",
    "\n",
    "\n",
    "\n",
    "\n",
    "*Have questions or comments? Visit the [course discussion forum](https://www.kaggle.com/learn/intermediate-machine-learning/discussion) to chat with other learners.*"
   ]
  }
 ],
 "metadata": {
  "kernelspec": {
   "display_name": "Python 3",
   "language": "python",
   "name": "python3"
  },
  "language_info": {
   "codemirror_mode": {
    "name": "ipython",
    "version": 3
   },
   "file_extension": ".py",
   "mimetype": "text/x-python",
   "name": "python",
   "nbconvert_exporter": "python",
   "pygments_lexer": "ipython3",
   "version": "3.7.12"
  },
  "papermill": {
   "default_parameters": {},
   "duration": 27.132564,
   "end_time": "2023-01-20T07:28:35.260307",
   "environment_variables": {},
   "exception": null,
   "input_path": "__notebook__.ipynb",
   "output_path": "__notebook__.ipynb",
   "parameters": {},
   "start_time": "2023-01-20T07:28:08.127743",
   "version": "2.3.4"
  }
 },
 "nbformat": 4,
 "nbformat_minor": 5
}
