{
 "cells": [
  {
   "cell_type": "markdown",
   "id": "46548869",
   "metadata": {
    "papermill": {
     "duration": 0.005811,
     "end_time": "2022-12-31T10:25:40.894811",
     "exception": false,
     "start_time": "2022-12-31T10:25:40.889000",
     "status": "completed"
    },
    "tags": []
   },
   "source": [
    "**This notebook is an exercise in the [Introduction to Machine Learning](https://www.kaggle.com/learn/intro-to-machine-learning) course.  You can reference the tutorial at [this link](https://www.kaggle.com/dansbecker/model-validation).**\n",
    "\n",
    "---\n"
   ]
  },
  {
   "cell_type": "markdown",
   "id": "42a8d8cd",
   "metadata": {
    "papermill": {
     "duration": 0.004474,
     "end_time": "2022-12-31T10:25:40.904231",
     "exception": false,
     "start_time": "2022-12-31T10:25:40.899757",
     "status": "completed"
    },
    "tags": []
   },
   "source": [
    "## Recap\n",
    "You've built a model. In this exercise you will test how good your model is.\n",
    "\n",
    "Run the cell below to set up your coding environment where the previous exercise left off."
   ]
  },
  {
   "cell_type": "code",
   "execution_count": 1,
   "id": "56539c85",
   "metadata": {
    "execution": {
     "iopub.execute_input": "2022-12-31T10:25:40.916560Z",
     "iopub.status.busy": "2022-12-31T10:25:40.915926Z",
     "iopub.status.idle": "2022-12-31T10:25:42.575251Z",
     "shell.execute_reply": "2022-12-31T10:25:42.573679Z"
    },
    "papermill": {
     "duration": 1.669486,
     "end_time": "2022-12-31T10:25:42.578392",
     "exception": false,
     "start_time": "2022-12-31T10:25:40.908906",
     "status": "completed"
    },
    "tags": []
   },
   "outputs": [
    {
     "name": "stdout",
     "output_type": "stream",
     "text": [
      "First in-sample predictions: [208500. 181500. 223500. 140000. 250000.]\n",
      "Actual target values for those homes: [208500, 181500, 223500, 140000, 250000]\n",
      "Setup Complete\n"
     ]
    }
   ],
   "source": [
    "# Code you have previously used to load data\n",
    "import pandas as pd\n",
    "from sklearn.tree import DecisionTreeRegressor\n",
    "\n",
    "# Path of the file to read\n",
    "iowa_file_path = '../input/home-data-for-ml-course/train.csv'\n",
    "\n",
    "home_data = pd.read_csv(iowa_file_path)\n",
    "y = home_data.SalePrice\n",
    "feature_columns = ['LotArea', 'YearBuilt', '1stFlrSF', '2ndFlrSF', 'FullBath', 'BedroomAbvGr', 'TotRmsAbvGrd']\n",
    "X = home_data[feature_columns]\n",
    "\n",
    "# Specify Model\n",
    "iowa_model = DecisionTreeRegressor()\n",
    "# Fit Model\n",
    "iowa_model.fit(X, y)\n",
    "\n",
    "print(\"First in-sample predictions:\", iowa_model.predict(X.head()))\n",
    "print(\"Actual target values for those homes:\", y.head().tolist())\n",
    "\n",
    "# Set up code checking\n",
    "from learntools.core import binder\n",
    "binder.bind(globals())\n",
    "from learntools.machine_learning.ex4 import *\n",
    "print(\"Setup Complete\")"
   ]
  },
  {
   "cell_type": "markdown",
   "id": "95afd57e",
   "metadata": {
    "papermill": {
     "duration": 0.004556,
     "end_time": "2022-12-31T10:25:42.587934",
     "exception": false,
     "start_time": "2022-12-31T10:25:42.583378",
     "status": "completed"
    },
    "tags": []
   },
   "source": [
    "# Exercises\n",
    "\n",
    "## Step 1: Split Your Data\n",
    "Use the `train_test_split` function to split up your data.\n",
    "\n",
    "Give it the argument `random_state=1` so the `check` functions know what to expect when verifying your code.\n",
    "\n",
    "Recall, your features are loaded in the DataFrame **X** and your target is loaded in **y**.\n"
   ]
  },
  {
   "cell_type": "code",
   "execution_count": 2,
   "id": "08364c02",
   "metadata": {
    "execution": {
     "iopub.execute_input": "2022-12-31T10:25:42.599331Z",
     "iopub.status.busy": "2022-12-31T10:25:42.598890Z",
     "iopub.status.idle": "2022-12-31T10:25:42.615584Z",
     "shell.execute_reply": "2022-12-31T10:25:42.614388Z"
    },
    "papermill": {
     "duration": 0.025263,
     "end_time": "2022-12-31T10:25:42.617961",
     "exception": false,
     "start_time": "2022-12-31T10:25:42.592698",
     "status": "completed"
    },
    "tags": []
   },
   "outputs": [
    {
     "data": {
      "application/javascript": [
       "parent.postMessage({\"jupyterEvent\": \"custom.exercise_interaction\", \"data\": {\"outcomeType\": 1, \"valueTowardsCompletion\": 0.25, \"interactionType\": 1, \"questionType\": 2, \"questionId\": \"1_SplitData\", \"learnToolsVersion\": \"0.3.4\", \"failureMessage\": \"\", \"exceptionClass\": \"\", \"trace\": \"\"}}, \"*\")"
      ],
      "text/plain": [
       "<IPython.core.display.Javascript object>"
      ]
     },
     "metadata": {},
     "output_type": "display_data"
    },
    {
     "data": {
      "text/markdown": [
       "<span style=\"color:#33cc33\">Correct</span>"
      ],
      "text/plain": [
       "Correct"
      ]
     },
     "metadata": {},
     "output_type": "display_data"
    }
   ],
   "source": [
    "# Import the train_test_split function and uncomment\n",
    "from sklearn.model_selection import train_test_split as tts\n",
    "\n",
    "# fill in and uncomment\n",
    "train_X, val_X, train_y, val_y = tts(X,y,random_state = 1)\n",
    "\n",
    "# Check your answer\n",
    "step_1.check()"
   ]
  },
  {
   "cell_type": "code",
   "execution_count": 3,
   "id": "72a751b9",
   "metadata": {
    "execution": {
     "iopub.execute_input": "2022-12-31T10:25:42.631786Z",
     "iopub.status.busy": "2022-12-31T10:25:42.630071Z",
     "iopub.status.idle": "2022-12-31T10:25:42.640469Z",
     "shell.execute_reply": "2022-12-31T10:25:42.639402Z"
    },
    "papermill": {
     "duration": 0.019882,
     "end_time": "2022-12-31T10:25:42.642920",
     "exception": false,
     "start_time": "2022-12-31T10:25:42.623038",
     "status": "completed"
    },
    "tags": []
   },
   "outputs": [
    {
     "data": {
      "application/javascript": [
       "parent.postMessage({\"jupyterEvent\": \"custom.exercise_interaction\", \"data\": {\"interactionType\": 3, \"questionType\": 2, \"questionId\": \"1_SplitData\", \"learnToolsVersion\": \"0.3.4\", \"valueTowardsCompletion\": 0.0, \"failureMessage\": \"\", \"exceptionClass\": \"\", \"trace\": \"\", \"outcomeType\": 4}}, \"*\")"
      ],
      "text/plain": [
       "<IPython.core.display.Javascript object>"
      ]
     },
     "metadata": {},
     "output_type": "display_data"
    },
    {
     "data": {
      "text/markdown": [
       "<span style=\"color:#33cc99\">Solution:</span> \n",
       "```python\n",
       "from sklearn.model_selection import train_test_split\n",
       "train_X, val_X, train_y, val_y = train_test_split(X, y, random_state=1)\n",
       "```"
      ],
      "text/plain": [
       "Solution: \n",
       "```python\n",
       "from sklearn.model_selection import train_test_split\n",
       "train_X, val_X, train_y, val_y = train_test_split(X, y, random_state=1)\n",
       "```"
      ]
     },
     "metadata": {},
     "output_type": "display_data"
    }
   ],
   "source": [
    "# The lines below will show you a hint or the solution.\n",
    "# step_1.hint() \n",
    "step_1.solution()\n"
   ]
  },
  {
   "cell_type": "markdown",
   "id": "4324cf9c",
   "metadata": {
    "papermill": {
     "duration": 0.005002,
     "end_time": "2022-12-31T10:25:42.653385",
     "exception": false,
     "start_time": "2022-12-31T10:25:42.648383",
     "status": "completed"
    },
    "tags": []
   },
   "source": [
    "## Step 2: Specify and Fit the Model\n",
    "\n",
    "Create a `DecisionTreeRegressor` model and fit it to the relevant data.\n",
    "Set `random_state` to 1 again when creating the model."
   ]
  },
  {
   "cell_type": "code",
   "execution_count": 4,
   "id": "db3b7f04",
   "metadata": {
    "execution": {
     "iopub.execute_input": "2022-12-31T10:25:42.666362Z",
     "iopub.status.busy": "2022-12-31T10:25:42.665433Z",
     "iopub.status.idle": "2022-12-31T10:25:42.695246Z",
     "shell.execute_reply": "2022-12-31T10:25:42.693505Z"
    },
    "papermill": {
     "duration": 0.039576,
     "end_time": "2022-12-31T10:25:42.698178",
     "exception": false,
     "start_time": "2022-12-31T10:25:42.658602",
     "status": "completed"
    },
    "tags": []
   },
   "outputs": [
    {
     "name": "stdout",
     "output_type": "stream",
     "text": [
      "[186500. 184000. 130000.  92000. 164500. 220000. 335000. 144152. 215000.\n",
      " 262000.]\n",
      "[186500. 184000. 130000.  92000. 164500. 220000. 335000. 144152. 215000.\n",
      " 262000.]\n"
     ]
    },
    {
     "data": {
      "application/javascript": [
       "parent.postMessage({\"jupyterEvent\": \"custom.exercise_interaction\", \"data\": {\"outcomeType\": 1, \"valueTowardsCompletion\": 0.25, \"interactionType\": 1, \"questionType\": 2, \"questionId\": \"2_FitModelWithTrain\", \"learnToolsVersion\": \"0.3.4\", \"failureMessage\": \"\", \"exceptionClass\": \"\", \"trace\": \"\"}}, \"*\")"
      ],
      "text/plain": [
       "<IPython.core.display.Javascript object>"
      ]
     },
     "metadata": {},
     "output_type": "display_data"
    },
    {
     "data": {
      "text/markdown": [
       "<span style=\"color:#33cc33\">Correct</span>"
      ],
      "text/plain": [
       "Correct"
      ]
     },
     "metadata": {},
     "output_type": "display_data"
    }
   ],
   "source": [
    "# You imported DecisionTreeRegressor in your last exercise\n",
    "# and that code has been copied to the setup code above. So, no need to\n",
    "# import it again\n",
    "\n",
    "# Specify the model\n",
    "iowa_model = DecisionTreeRegressor(random_state = 1)\n",
    "\n",
    "# Fit iowa_model with the training data.\n",
    "iowa_model.fit(train_X, train_y)\n",
    "# Check your answer\n",
    "step_2.check()"
   ]
  },
  {
   "cell_type": "code",
   "execution_count": 5,
   "id": "525ca4cc",
   "metadata": {
    "execution": {
     "iopub.execute_input": "2022-12-31T10:25:42.712016Z",
     "iopub.status.busy": "2022-12-31T10:25:42.710928Z",
     "iopub.status.idle": "2022-12-31T10:25:42.719938Z",
     "shell.execute_reply": "2022-12-31T10:25:42.718348Z"
    },
    "papermill": {
     "duration": 0.018926,
     "end_time": "2022-12-31T10:25:42.722839",
     "exception": false,
     "start_time": "2022-12-31T10:25:42.703913",
     "status": "completed"
    },
    "tags": []
   },
   "outputs": [
    {
     "data": {
      "application/javascript": [
       "parent.postMessage({\"jupyterEvent\": \"custom.exercise_interaction\", \"data\": {\"interactionType\": 3, \"questionType\": 2, \"questionId\": \"2_FitModelWithTrain\", \"learnToolsVersion\": \"0.3.4\", \"valueTowardsCompletion\": 0.0, \"failureMessage\": \"\", \"exceptionClass\": \"\", \"trace\": \"\", \"outcomeType\": 4}}, \"*\")"
      ],
      "text/plain": [
       "<IPython.core.display.Javascript object>"
      ]
     },
     "metadata": {},
     "output_type": "display_data"
    },
    {
     "data": {
      "text/markdown": [
       "<span style=\"color:#33cc99\">Solution:</span> \n",
       "```python\n",
       "iowa_model = DecisionTreeRegressor(random_state=1)\n",
       "iowa_model.fit(train_X, train_y)\n",
       "```"
      ],
      "text/plain": [
       "Solution: \n",
       "```python\n",
       "iowa_model = DecisionTreeRegressor(random_state=1)\n",
       "iowa_model.fit(train_X, train_y)\n",
       "```"
      ]
     },
     "metadata": {},
     "output_type": "display_data"
    }
   ],
   "source": [
    "# step_2.hint()\n",
    "step_2.solution()"
   ]
  },
  {
   "cell_type": "markdown",
   "id": "1771cbd9",
   "metadata": {
    "papermill": {
     "duration": 0.007105,
     "end_time": "2022-12-31T10:25:42.736411",
     "exception": false,
     "start_time": "2022-12-31T10:25:42.729306",
     "status": "completed"
    },
    "tags": []
   },
   "source": [
    "## Step 3: Make Predictions with Validation data\n"
   ]
  },
  {
   "cell_type": "code",
   "execution_count": 6,
   "id": "d9c6738a",
   "metadata": {
    "execution": {
     "iopub.execute_input": "2022-12-31T10:25:42.750110Z",
     "iopub.status.busy": "2022-12-31T10:25:42.749446Z",
     "iopub.status.idle": "2022-12-31T10:25:42.763609Z",
     "shell.execute_reply": "2022-12-31T10:25:42.762250Z"
    },
    "papermill": {
     "duration": 0.024236,
     "end_time": "2022-12-31T10:25:42.766393",
     "exception": false,
     "start_time": "2022-12-31T10:25:42.742157",
     "status": "completed"
    },
    "tags": []
   },
   "outputs": [
    {
     "data": {
      "application/javascript": [
       "parent.postMessage({\"jupyterEvent\": \"custom.exercise_interaction\", \"data\": {\"outcomeType\": 1, \"valueTowardsCompletion\": 0.25, \"interactionType\": 1, \"questionType\": 2, \"questionId\": \"3_ValPreds\", \"learnToolsVersion\": \"0.3.4\", \"failureMessage\": \"\", \"exceptionClass\": \"\", \"trace\": \"\"}}, \"*\")"
      ],
      "text/plain": [
       "<IPython.core.display.Javascript object>"
      ]
     },
     "metadata": {},
     "output_type": "display_data"
    },
    {
     "data": {
      "text/markdown": [
       "<span style=\"color:#33cc33\">Correct</span>"
      ],
      "text/plain": [
       "Correct"
      ]
     },
     "metadata": {},
     "output_type": "display_data"
    }
   ],
   "source": [
    "# Predict with all validation observations\n",
    "val_predictions = iowa_model.predict(val_X)\n",
    "\n",
    "# Check your answer\n",
    "step_3.check()"
   ]
  },
  {
   "cell_type": "code",
   "execution_count": 7,
   "id": "224f3114",
   "metadata": {
    "execution": {
     "iopub.execute_input": "2022-12-31T10:25:42.781357Z",
     "iopub.status.busy": "2022-12-31T10:25:42.780024Z",
     "iopub.status.idle": "2022-12-31T10:25:42.788273Z",
     "shell.execute_reply": "2022-12-31T10:25:42.787399Z"
    },
    "papermill": {
     "duration": 0.018219,
     "end_time": "2022-12-31T10:25:42.790829",
     "exception": false,
     "start_time": "2022-12-31T10:25:42.772610",
     "status": "completed"
    },
    "tags": []
   },
   "outputs": [
    {
     "data": {
      "application/javascript": [
       "parent.postMessage({\"jupyterEvent\": \"custom.exercise_interaction\", \"data\": {\"interactionType\": 3, \"questionType\": 2, \"questionId\": \"3_ValPreds\", \"learnToolsVersion\": \"0.3.4\", \"valueTowardsCompletion\": 0.0, \"failureMessage\": \"\", \"exceptionClass\": \"\", \"trace\": \"\", \"outcomeType\": 4}}, \"*\")"
      ],
      "text/plain": [
       "<IPython.core.display.Javascript object>"
      ]
     },
     "metadata": {},
     "output_type": "display_data"
    },
    {
     "data": {
      "text/markdown": [
       "<span style=\"color:#33cc99\">Solution:</span> \n",
       "```python\n",
       "val_predictions = iowa_model.predict(val_X)\n",
       "```"
      ],
      "text/plain": [
       "Solution: \n",
       "```python\n",
       "val_predictions = iowa_model.predict(val_X)\n",
       "```"
      ]
     },
     "metadata": {},
     "output_type": "display_data"
    }
   ],
   "source": [
    "# step_3.hint()\n",
    "step_3.solution()"
   ]
  },
  {
   "cell_type": "markdown",
   "id": "c2c78b71",
   "metadata": {
    "papermill": {
     "duration": 0.005959,
     "end_time": "2022-12-31T10:25:42.803353",
     "exception": false,
     "start_time": "2022-12-31T10:25:42.797394",
     "status": "completed"
    },
    "tags": []
   },
   "source": [
    "Inspect your predictions and actual values from validation data."
   ]
  },
  {
   "cell_type": "code",
   "execution_count": 8,
   "id": "1428a850",
   "metadata": {
    "execution": {
     "iopub.execute_input": "2022-12-31T10:25:42.818137Z",
     "iopub.status.busy": "2022-12-31T10:25:42.817426Z",
     "iopub.status.idle": "2022-12-31T10:25:42.824774Z",
     "shell.execute_reply": "2022-12-31T10:25:42.823280Z"
    },
    "papermill": {
     "duration": 0.018543,
     "end_time": "2022-12-31T10:25:42.828085",
     "exception": false,
     "start_time": "2022-12-31T10:25:42.809542",
     "status": "completed"
    },
    "tags": []
   },
   "outputs": [
    {
     "name": "stdout",
     "output_type": "stream",
     "text": [
      "220000.0\n",
      "258     231500\n",
      "267     179500\n",
      "288     122000\n",
      "649      84500\n",
      "1233    142000\n",
      "         ...  \n",
      "1017    187500\n",
      "534     178000\n",
      "1334    125000\n",
      "1369    232000\n",
      "628     135000\n",
      "Name: SalePrice, Length: 365, dtype: int64\n"
     ]
    }
   ],
   "source": [
    "# print the top few validation predictions\n",
    "print(val_predictions[5])\n",
    "# print the top few actual prices from validation data\n",
    "print(val_y)"
   ]
  },
  {
   "cell_type": "markdown",
   "id": "e8f6db5b",
   "metadata": {
    "papermill": {
     "duration": 0.006069,
     "end_time": "2022-12-31T10:25:42.841833",
     "exception": false,
     "start_time": "2022-12-31T10:25:42.835764",
     "status": "completed"
    },
    "tags": []
   },
   "source": [
    "What do you notice that is different from what you saw with in-sample predictions (which are printed after the top code cell in this page).\n",
    "\n",
    "Do you remember why validation predictions differ from in-sample (or training) predictions? This is an important idea from the last lesson.\n",
    "\n",
    "## Step 4: Calculate the Mean Absolute Error in Validation Data\n"
   ]
  },
  {
   "cell_type": "code",
   "execution_count": 9,
   "id": "ded61c55",
   "metadata": {
    "execution": {
     "iopub.execute_input": "2022-12-31T10:25:42.856475Z",
     "iopub.status.busy": "2022-12-31T10:25:42.856008Z",
     "iopub.status.idle": "2022-12-31T10:25:42.866136Z",
     "shell.execute_reply": "2022-12-31T10:25:42.864957Z"
    },
    "papermill": {
     "duration": 0.020411,
     "end_time": "2022-12-31T10:25:42.868626",
     "exception": false,
     "start_time": "2022-12-31T10:25:42.848215",
     "status": "completed"
    },
    "tags": []
   },
   "outputs": [
    {
     "data": {
      "application/javascript": [
       "parent.postMessage({\"jupyterEvent\": \"custom.exercise_interaction\", \"data\": {\"outcomeType\": 1, \"valueTowardsCompletion\": 0.25, \"interactionType\": 1, \"questionType\": 1, \"questionId\": \"4_MAE\", \"learnToolsVersion\": \"0.3.4\", \"failureMessage\": \"\", \"exceptionClass\": \"\", \"trace\": \"\"}}, \"*\")"
      ],
      "text/plain": [
       "<IPython.core.display.Javascript object>"
      ]
     },
     "metadata": {},
     "output_type": "display_data"
    },
    {
     "data": {
      "text/markdown": [
       "<span style=\"color:#33cc33\">Correct</span>"
      ],
      "text/plain": [
       "Correct"
      ]
     },
     "metadata": {},
     "output_type": "display_data"
    }
   ],
   "source": [
    "from sklearn.metrics import mean_absolute_error as mae\n",
    "val_mae = mae(val_y,val_predictions)\n",
    "\n",
    "# uncomment following line to see the validation_mae\n",
    "#print(val_mae)\n",
    "\n",
    "# Check your answer\n",
    "step_4.check()"
   ]
  },
  {
   "cell_type": "code",
   "execution_count": 10,
   "id": "fda27cbc",
   "metadata": {
    "execution": {
     "iopub.execute_input": "2022-12-31T10:25:42.883966Z",
     "iopub.status.busy": "2022-12-31T10:25:42.883461Z",
     "iopub.status.idle": "2022-12-31T10:25:42.892178Z",
     "shell.execute_reply": "2022-12-31T10:25:42.890746Z"
    },
    "papermill": {
     "duration": 0.019336,
     "end_time": "2022-12-31T10:25:42.894781",
     "exception": false,
     "start_time": "2022-12-31T10:25:42.875445",
     "status": "completed"
    },
    "tags": []
   },
   "outputs": [
    {
     "data": {
      "application/javascript": [
       "parent.postMessage({\"jupyterEvent\": \"custom.exercise_interaction\", \"data\": {\"interactionType\": 3, \"questionType\": 1, \"questionId\": \"4_MAE\", \"learnToolsVersion\": \"0.3.4\", \"valueTowardsCompletion\": 0.0, \"failureMessage\": \"\", \"exceptionClass\": \"\", \"trace\": \"\", \"outcomeType\": 4}}, \"*\")"
      ],
      "text/plain": [
       "<IPython.core.display.Javascript object>"
      ]
     },
     "metadata": {},
     "output_type": "display_data"
    },
    {
     "data": {
      "text/markdown": [
       "<span style=\"color:#33cc99\">Solution:</span> \n",
       "```python\n",
       "val_mae = mean_absolute_error(val_y, val_predictions)\n",
       "```"
      ],
      "text/plain": [
       "Solution: \n",
       "```python\n",
       "val_mae = mean_absolute_error(val_y, val_predictions)\n",
       "```"
      ]
     },
     "metadata": {},
     "output_type": "display_data"
    }
   ],
   "source": [
    "# step_4.hint()\n",
    "step_4.solution()"
   ]
  },
  {
   "cell_type": "markdown",
   "id": "ddd0c605",
   "metadata": {
    "papermill": {
     "duration": 0.006419,
     "end_time": "2022-12-31T10:25:42.908144",
     "exception": false,
     "start_time": "2022-12-31T10:25:42.901725",
     "status": "completed"
    },
    "tags": []
   },
   "source": [
    "Is that MAE good?  There isn't a general rule for what values are good that applies across applications. But you'll see how to use (and improve) this number in the next step.\n",
    "\n",
    "# Keep Going\n",
    "\n",
    "You are ready for **[Underfitting and Overfitting](https://www.kaggle.com/dansbecker/underfitting-and-overfitting).**\n"
   ]
  },
  {
   "cell_type": "markdown",
   "id": "126c8221",
   "metadata": {
    "papermill": {
     "duration": 0.006565,
     "end_time": "2022-12-31T10:25:42.921436",
     "exception": false,
     "start_time": "2022-12-31T10:25:42.914871",
     "status": "completed"
    },
    "tags": []
   },
   "source": [
    "---\n",
    "\n",
    "\n",
    "\n",
    "\n",
    "*Have questions or comments? Visit the [course discussion forum](https://www.kaggle.com/learn/intro-to-machine-learning/discussion) to chat with other learners.*"
   ]
  }
 ],
 "metadata": {
  "kernelspec": {
   "display_name": "Python 3",
   "language": "python",
   "name": "python3"
  },
  "language_info": {
   "codemirror_mode": {
    "name": "ipython",
    "version": 3
   },
   "file_extension": ".py",
   "mimetype": "text/x-python",
   "name": "python",
   "nbconvert_exporter": "python",
   "pygments_lexer": "ipython3",
   "version": "3.7.12"
  },
  "papermill": {
   "default_parameters": {},
   "duration": 12.447758,
   "end_time": "2022-12-31T10:25:43.752430",
   "environment_variables": {},
   "exception": null,
   "input_path": "__notebook__.ipynb",
   "output_path": "__notebook__.ipynb",
   "parameters": {},
   "start_time": "2022-12-31T10:25:31.304672",
   "version": "2.3.4"
  }
 },
 "nbformat": 4,
 "nbformat_minor": 5
}
